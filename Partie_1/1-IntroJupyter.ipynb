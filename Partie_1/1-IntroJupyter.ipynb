{
 "cells": [
  {
   "cell_type": "markdown",
   "id": "b374a8da-d77e-4d08-a65c-dd68ddd9c704",
   "metadata": {},
   "source": [
    "# Introduction à l'utilisation des notebooks Jupyter"
   ]
  },
  {
   "cell_type": "code",
   "execution_count": 1,
   "id": "96ea4cde-164b-46df-a5a7-4f80e5daf515",
   "metadata": {},
   "outputs": [
    {
     "data": {
      "text/markdown": [
       "### ERREUR: numéro d'étudiant non spécifié!!!"
      ],
      "text/plain": [
       "<IPython.core.display.Markdown object>"
      ]
     },
     "metadata": {},
     "output_type": "display_data"
    },
    {
     "data": {
      "text/markdown": [
       "#### Etudiant toto toto  id=1234"
      ],
      "text/plain": [
       "<IPython.core.display.Markdown object>"
      ]
     },
     "metadata": {},
     "output_type": "display_data"
    }
   ],
   "source": [
    "%matplotlib inline\n",
    "import numpy as np\n",
    "import matplotlib.pyplot as plt\n",
    "from IPython.core.display import HTML\n",
    "from IPython.display import display,Image\n",
    "#\n",
    "from IPython.display import display, Markdown, clear_output\n",
    "def printmd(string):\n",
    "    display(Markdown(string))\n",
    "# test si numero étudiant spécifier\n",
    "try: NUMERO_ETUDIANT\n",
    "except NameError: NUMERO_ETUDIANT = None \n",
    "if type(NUMERO_ETUDIANT) is not int :\n",
    "    printmd(\"### ERREUR: numéro d'étudiant non spécifié!!!\")\n",
    "    NUMERO_ETUDIANT = 1234\n",
    "    NOM = \"toto\"\n",
    "    PRENOM = \"toto\"\n",
    "    #raise AssertionError(\"NUMERO_ETUDIANT non défini\")\n",
    "# parametres spécifiques\n",
    "_uid_    = NUMERO_ETUDIANT\n",
    "np.random.seed(_uid_)\n",
    "printmd(\"#### Etudiant {} {}  id={}\".format(NOM,PRENOM,NUMERO_ETUDIANT))"
   ]
  },
  {
   "cell_type": "markdown",
   "id": "ca69fb97-ad5a-4475-95a3-6c9f9bb38da2",
   "metadata": {},
   "source": [
    "## Introduction\n",
    "Vous allez au cours de ce TP vous familiariser avec Python et le format notebook.\n",
    "Python est un langage de programmation très générique et utilisé dans beaucoup de contextes différents. Pour le traitement des images, nous allons surtout utiliser les modules Matplotlib, NumPy et Scikit-Image.\n",
    "\n",
    "## Python\n",
    "Python est un language de programmation moderne de haut niveau, libre, généraliste, multi-plateformes, multi-architectures, multi-OS (linux, windows, MacOS,..). Un programme Python peut s'exécuter sur un tout petit raspberry Pi à 30€ (ARM), sur des smartphones, des portables, des PC jusqu'aux super-calculateurs HPC avec plusieurs dizaines de coeurs de calcul."
   ]
  },
  {
   "cell_type": "markdown",
   "id": "76b5e5b1-cc98-4c88-aaba-b5a08a8d0724",
   "metadata": {},
   "source": [
    "## Bases d'un notebook\n",
    "### Notebook\n",
    "Le notebook est une interface web riche qui permet d'associer du code, la réponse du code et du texte.  \n",
    "Le document sur lequel on travaille est composé de **cellules**.  \n",
    "Pour chaque cellule, il faut indiquer à l'avance comment le notebook doit l'interpréter.\n",
    "\n",
    "### Les différents types de cellule\n",
    "* code\n",
    "  \n",
    "L'interprétation par défaut est en **code**, c'est à dire que le programme interprète le contenu de la cellule comme s'il s'agissait d'un code en Python. Pour changer cela, il faut selectionner la cellule puis utiliser le menu déroulant de la barre d'outils en haut.\n",
    "\n",
    "* texte (markdown)\n",
    "  \n",
    "Une cellule peut être interprétée comme du texte, selon un langage spécifique, le *markdown*. Il s'agit de texte enrichi de quelques règles supplémentaires qui permettent une mise en page sommaire (mais efficace) du texte. Nous allons en voir quelques exemples."
   ]
  },
  {
   "cell_type": "markdown",
   "id": "7168592d-9f09-46a1-93e9-e3bedbc2e39d",
   "metadata": {},
   "source": [
    "### Quelques commandes de base\n",
    "* **exécuter une cellule** : bouton **run** (ou raccourci **shift+enter**)\n",
    "* **créer une nouvelle cellule** : bouton **+** (ou raccourci **alt+entrer**)\n",
    "* **changer le type de la cellule** : menu déroulant\n",
    "\n",
    "**Attention**\n",
    "Il faut bien veiller à exécuter le notebook dans l'ordre, en commençant à la première cellule.\n",
    "\n",
    "*Astuce* : utiliser le menu `Noyau -> Redémarrer & tout exécuter` ou `Kernel -> Restart & Run all` pour executer tout le notebook sans effet de bord"
   ]
  },
  {
   "cell_type": "markdown",
   "id": "c50bcdad-62c9-4dba-8044-0cef2059c5fc",
   "metadata": {},
   "source": [
    "### Règles de formatage du texte\n",
    "Il est possible de mettre en page (un minimum) le texte dans une cellule markdown.  \n",
    "Ces règles sont assez sommaires mais suffisent en général pour ce qu'on veut écrire. Pour une mise en page plus complète, il faudra utiliser des logiciels tiers (Latex, openoffice, etc...)\n",
    "\n",
    "*italique*, **gras** :\n",
    "\n",
    "On utilise le caractère * pour mettre du texte en :\n",
    "\n",
    "* italique : *texte* --> texte\n",
    "* gras : **texte** --> texte\n",
    "\n",
    "**Saut de ligne, nouveau paragraphe :** Pour commencer une nouvelle ligne, il faut ajouter deux espaces à la fin d'une ligne  \n",
    "Pour commencer un nouveau paragraphe, il faut sauter deux lignes.\n",
    "\n",
    "**Titres :**\n",
    "Pour inclure un titre, il faut utiliser le caractère # en début de ligne. Tout le reste de la ligne sera alors formaté comme un titre (grande police, gras).  \n",
    "Si on utilise plusieurs caractères en début de ligne, le niveau de titre diminue :\n",
    "\n",
    "# --> titre principal\n",
    "## --> sous-titre\n",
    "### --> sous-sous-titre\n",
    "etc..."
   ]
  },
  {
   "cell_type": "markdown",
   "id": "3e3b7ae7-7811-4b96-84c5-5fd99b07bc7f",
   "metadata": {},
   "source": [
    "### Equations\n",
    "Il est possible d'inclure des équations mathématiques dans une cellule markdown. C'est même d'ailleurs là un de ses intérêts principaux.\n",
    "Les équations sont écrites suivant une syntaxe Latex (simplifiée). On utilise pour cela le symbole dollar ($) de la façon suivante :\n",
    "\n",
    "* équation dans la même ligne : `1x($)`\n",
    "* équation avec retour à la ligne : `2x($)`\n",
    "\n",
    "Le texte de l'équation suit aussi la syntaxe Latex. Celle-ci est très riche et ne peut pas être expliquée en quelques minutes, vous êtes invités à consulter des tutoriels sur internet. Voici quelques indications de syntaxe de base :\n",
    "\n",
    "* exposant : \\^{texte}\n",
    "* indice : _{texte}\n",
    "* fraction : \\frac{numérateur}{denominateur}\n",
    "* grec : \\pi, \\alpha, \\lambda, etc...\n",
    "* racine carrée : \\sqrt{texte}\n",
    "\n",
    "#### Exemple\n",
    "La formule d'Euler relie les nombres les plus importants des mathématiques :\n",
    "$ei\\pi+1=0$\n",
    " \n",
    "avec  $e=2.71828182846...$\n",
    "  et  $\\pi=3.14159265359...$\n",
    " \n",
    "**Attention :**\n",
    "Markdown n'est pas prévu pour utiliser toute la richesse de Latex. En particulier, il est impossible (ou très difficile...) d'inclure des packages permettant des caractères qui ne sont pas prévus dans le latex de base. Il est recommandé de simplifier au maximum les équations.\n"
   ]
  },
  {
   "cell_type": "markdown",
   "id": "f7f9938c-24d5-4f5d-87dd-ebc2750ae243",
   "metadata": {},
   "source": [
    "## Eléments de programmation avec Python\n",
    "Nous allons maintenant nous concentrer sur le code en Python et ses applications pour le calcul scientifique.\n",
    "\n",
    "### Bases : variables, types, listes\n",
    "Pour commencer, nous allons voir les variables en Python. Pour définir une variable, la syntaxe est simple :"
   ]
  },
  {
   "cell_type": "code",
   "execution_count": null,
   "id": "c6eee99e-15ca-43b7-8b76-8f44aa41d1b0",
   "metadata": {},
   "outputs": [],
   "source": [
    "a = 1 # les espaces de part et d'autre du signal = ne sont pas obligatoires. Cela rend simplement le code plus lisible"
   ]
  },
  {
   "cell_type": "markdown",
   "id": "fa8fe265-e08e-43fb-9543-1ee4574f90d2",
   "metadata": {},
   "source": [
    "Nous venons de définir la variable `a`, et elle a pour valeur 1.  \n",
    "`a` est donc une **variable**.\n",
    "\n",
    "### Types des variables\n",
    "La valeur de `a` est 1, c'est une variable numérique. De plus, le nombre n'a pas de décimale : c'est un entier. On peut le vérifier avec la fonction `type` :"
   ]
  },
  {
   "cell_type": "code",
   "execution_count": null,
   "id": "ef52f198-dc3b-4f7e-9756-3b54c8fcc96f",
   "metadata": {},
   "outputs": [],
   "source": [
    "type(a)"
   ]
  },
  {
   "cell_type": "markdown",
   "id": "4da6765d-33d4-459b-8c0b-cab97e7f18f7",
   "metadata": {},
   "source": [
    "Pour définir une variable réelle à virgule flottante, il faut lui mettre des décimales :"
   ]
  },
  {
   "cell_type": "code",
   "execution_count": null,
   "id": "1389b514-5f65-4b8d-a700-ee5e9de0c3f1",
   "metadata": {},
   "outputs": [],
   "source": [
    "b = 1.0\n",
    "type(b)"
   ]
  },
  {
   "cell_type": "markdown",
   "id": "adadcf3c-52bc-4fdf-be5e-0b44b9058156",
   "metadata": {},
   "source": [
    "Il y a plusieurs types de variables dans python (`int`, `float`, `string`, ...), il y en a en plus dans les modules, et il est même possible de créer de nouveaux types de variables, mais nous ne rentrerons pas dans ce sujet sans fin.\n",
    "\n",
    "La principale difficulté que vous allez rencontrer est lors de l'association de différents types, par exemple dans une opération mathématique. Dans ce cas il faut parfois être vigilant.\n",
    "\n",
    "<span style=\"color:red\">**Exercice**</span><br>\n",
    "Expliquez les différents résultats donnés par les opérations ci-dessous dans la dernière cellule de texte"
   ]
  },
  {
   "cell_type": "code",
   "execution_count": null,
   "id": "b1e56d19-6953-4e48-a809-8a3d1a62868e",
   "metadata": {},
   "outputs": [],
   "source": [
    "a = 1 ; b = 3;\n",
    "print(a+b)\n",
    "print(a//b)"
   ]
  },
  {
   "cell_type": "code",
   "execution_count": null,
   "id": "e5390fd9-4e8d-410f-8598-077b54fbbf1d",
   "metadata": {},
   "outputs": [],
   "source": [
    "a = 1. ; b = 3;\n",
    "print(a/b)"
   ]
  },
  {
   "cell_type": "code",
   "execution_count": null,
   "id": "271d8051-45d4-42a6-86f7-be046e95a247",
   "metadata": {},
   "outputs": [],
   "source": [
    "a = '1'; b = '3';\n",
    "print(a+b)"
   ]
  },
  {
   "cell_type": "markdown",
   "id": "6ac27cdc-7a98-4c3f-b7f4-dfc56410ac75",
   "metadata": {},
   "source": [
    "### Tests, Boucles, fonctions\n",
    "En Python, les structures (boucles, if, fonctions, etc...) sont indiquées avec l'indentation. Il est donc primordial de respecter l'indentation lors de l'écriture d'un programme !! La syntaxe est en général :\n",
    "\n",
    "```python\n",
    "for var in liste:\n",
    "    (action)\n",
    "\n",
    "if (condition):\n",
    "    (action)\n",
    "```\n",
    "*L'indentation et les deux points sont absolument nécessaires à l'éxecution du code !!*\n",
    "\n",
    "#### Exemple"
   ]
  },
  {
   "cell_type": "code",
   "execution_count": null,
   "id": "98016012-11c5-4a0e-894c-2d288eb6e7b6",
   "metadata": {},
   "outputs": [],
   "source": [
    "for i in [0,1,2,3,4,5]:\n",
    "    print(i)"
   ]
  },
  {
   "cell_type": "markdown",
   "id": "7d6b1c6a-e77b-4d70-8d56-edcaa699787e",
   "metadata": {},
   "source": [
    "Pour imbriquer des structures les unes dans les autres, il suffit d'ajouter un cran à l'indentation.\n",
    "\n",
    "**Attention à bien respecter l'indentation lors de la sortie d'une structure**"
   ]
  },
  {
   "cell_type": "code",
   "execution_count": null,
   "id": "fe4e28b7-c389-4b85-9721-fa43106339c7",
   "metadata": {},
   "outputs": [],
   "source": [
    "for i in [0,1,2,3,4,5,6,7,8]:\n",
    "    if i<4:          # première indentation \n",
    "        print(i)     # deux indentations : on est dans le cas (if), lui-même dans la boucle\n",
    "    print('done')    # plus qu'une indentation : on est sorti du cas, mais pas de la boucle"
   ]
  },
  {
   "cell_type": "markdown",
   "id": "1dce37cd-1693-430b-8689-62b2f70f51ef",
   "metadata": {},
   "source": [
    "Pour définir une fonction, la syntaxe respecte aussi l'indentation. Tout ce qui est indenté sera executé au sein de la fonction.\n",
    "\n",
    "#### Exemple"
   ]
  },
  {
   "cell_type": "code",
   "execution_count": null,
   "id": "f61815f2-b13b-4d6a-b498-9ae6fe5162e9",
   "metadata": {},
   "outputs": [],
   "source": [
    "def my_func(a,b):\n",
    "    print(a)\n",
    "    print(b)\n",
    "    print('on va multiplier les deux')\n",
    "    return a*b"
   ]
  },
  {
   "cell_type": "code",
   "execution_count": null,
   "id": "24866b4c-6010-4e5e-99e8-ffe3655443b1",
   "metadata": {},
   "outputs": [],
   "source": [
    "my_func(3.,4.2)"
   ]
  },
  {
   "cell_type": "code",
   "execution_count": null,
   "id": "acf35887-ca0a-41b3-961e-1b1c585e8767",
   "metadata": {},
   "outputs": [],
   "source": [
    "b=my_func(1.3,1.8) # On remarque qu'il n'y a pas de retour de la cellule. \n",
    "                   # Les commandes d'impression de la fonction, elles, sont toujours appliquées lors de son appel."
   ]
  },
  {
   "cell_type": "markdown",
   "id": "8fc9f30b-b5e9-4c19-b429-025d61ada61e",
   "metadata": {},
   "source": [
    "### Modules\n",
    "Bien que déjà très riche, la version de base de Python ne suffit pas à faire proprement du calcul scientifique. Par exemple, il n'y a pas de fonction de base pour calculer la racine carrée d'un nombre.<br>\n",
    "Il serait possible de tout définir de zéro, mais ce serait fastidieux, et surtout complètement inutile car il y a beaucoup de codes déjà écrits qui font le travail. Ces codes sont regroupés dans des *bibliothèques*, appellées en Python **MODULES**.\n",
    "\n",
    "Pour charger un module, il y a plusieurs syntaxes possibles en Python.\n",
    "\n",
    "Voyons quelques exemples avec le module *numpy* et la fonction *sqrt* qu'il contient."
   ]
  },
  {
   "cell_type": "code",
   "execution_count": null,
   "id": "15ddad07-f9c1-4b4e-b5a8-2c4709bfa2e8",
   "metadata": {},
   "outputs": [],
   "source": [
    "import numpy # importe le module math dans le notebook\n",
    "numpy   # Le nom du module lui-même ne nous avance pas trop..."
   ]
  },
  {
   "cell_type": "markdown",
   "id": "1fc802c0-9e8c-43e1-ae89-509790d677a1",
   "metadata": {},
   "source": [
    "Pour accéder aux fonctions contenues dans le module, il faut les appeler avec le nom du module suivi d'un point :"
   ]
  },
  {
   "cell_type": "code",
   "execution_count": null,
   "id": "1626f4e6-ae6c-477c-9e48-27e104628e04",
   "metadata": {},
   "outputs": [],
   "source": [
    "numpy.sqrt(2)"
   ]
  },
  {
   "cell_type": "markdown",
   "id": "a81584f4-3cc5-435c-b566-3687eb569000",
   "metadata": {},
   "source": [
    "Notons que `sqrt` seul ne suffit pas :\n",
    "\n",
    "Il est parfois fastidieux de devoir taper le nom de tout le module à chaque utilisation. Il est possible alors de lui donner un nom plus court :"
   ]
  },
  {
   "cell_type": "code",
   "execution_count": null,
   "id": "590151cc-a38a-4414-afa3-ce5f23fd7a35",
   "metadata": {},
   "outputs": [],
   "source": [
    "import numpy as np      # np est le nom classique donné au module numpy\n",
    "np.array([1,2,3,4])"
   ]
  },
  {
   "cell_type": "markdown",
   "id": "b85a497b-9b35-4920-8e4a-e179c0b248b1",
   "metadata": {},
   "source": [
    "Pour connaître la liste des fonctions disponibles dans un module, on peut utiliser **dir** :\n",
    "\n",
    "    dir(np)\n",
    "\n",
    "ou consulter l'aide en ligne (`Aide -> Numpy`)\n",
    "\n",
    "#### Aide dans le notebook :\n",
    "Si on veut connaître les détails d'une fonction, on peut utiliser le point d'interrogation **?**  \n",
    "Si on ne connait pas à l'avance la fonction à utiliser, le plus simple est une recherche sur internet.\n",
    "\n",
    "<span style=\"color:red\">**Exercice**</span><br>\n",
    "Taper dans google 'python numpy renverser'. En déduire comment renverser un array numpy."
   ]
  },
  {
   "cell_type": "code",
   "execution_count": null,
   "id": "d9bcd3f7-b89e-4870-aa99-8d3c43f1b6e7",
   "metadata": {},
   "outputs": [],
   "source": [
    "A = np.array([1,2,3,4,5,6,7,8]);\n",
    "#B =        # écrire ici la définition de B\n",
    "#print(B)"
   ]
  },
  {
   "cell_type": "markdown",
   "id": "a3b66fc7-0738-40cf-8a68-b76175415f28",
   "metadata": {},
   "source": [
    "### Numpy et matplotlib\n",
    "Le format de base des tableaux dans Python est les listes. Pour certaines raisons, il n'est pas adapté au calcul scientifique."
   ]
  },
  {
   "cell_type": "code",
   "execution_count": null,
   "id": "1821a87a-1553-43bc-b10f-8ea4738484ee",
   "metadata": {},
   "outputs": [],
   "source": [
    "A = [1,2,3,4,5] # une liste A\n",
    "B = [1,1,1,1,1] # une liste B\n",
    "print(A+B)"
   ]
  },
  {
   "cell_type": "markdown",
   "id": "5bbe9398-8a55-4a9d-a0cc-91b5f3a94ec5",
   "metadata": {},
   "source": [
    "Pour générer un array, il existe plusieurs méthodes :\n",
    "\n",
    "* `np.array([une liste])` transforme une liste en array\n",
    "* `np.zeros(n)` créée une liste de zeros de taille n\n",
    "* `np.arange(x1,x2,dx)` créée un tableau qui va de x1 à x2 tous les dx. x2 n'est PAS inclus\n",
    "* `np.linspace(x1,x2,num=n)` créée un tableau de taille n qui va de x1 à x2. x2 est inclus.\n",
    "* `B = fonction_mathematique(A)` crée un tableau B de même taille que A, où tous les éléments de B sont le résultat de la fonction pour les éléments de A (exemple : exp, log, tan, cos, ...)\n",
    "  \n",
    "Il y a d'autres façons de faire (importer un fichier texte, etc...)\n",
    "\n",
    "#### Exemple"
   ]
  },
  {
   "cell_type": "code",
   "execution_count": null,
   "id": "47a3d626-2bff-4903-aae0-0f8831fcc34e",
   "metadata": {},
   "outputs": [],
   "source": [
    "A=np.zeros(14)+1  # zeros(n) : crée un tableau rempli de zeros, de taille n\n",
    "B=np.arange(0,1,1./14) # arange(a,b,dx) : va de a à b tous les dx (b n'est PAS inclus !!) \n",
    "A+B\n",
    "C=np.linspace(-100,100,num=14) # linspace(a,b,num=n) : place n valeurs entre deux bornes a et b, inclues.\n",
    "print(A)\n",
    "print(B)\n",
    "print(C)"
   ]
  },
  {
   "cell_type": "markdown",
   "id": "92b3c709-eec5-4f2c-9079-7faf57b7021b",
   "metadata": {},
   "source": [
    "Pour accéder à un élément d'un array en **position i**, on utilise la syntaxe :\n",
    "`A[i]`\n",
    "\n",
    "**Attention !**  \n",
    "La numérotation commence à $0$ et finit à  $n−1$"
   ]
  },
  {
   "cell_type": "code",
   "execution_count": null,
   "id": "7bf612e3-8ba9-4132-832e-23056739367d",
   "metadata": {},
   "outputs": [],
   "source": [
    "B[3]"
   ]
  },
  {
   "cell_type": "markdown",
   "id": "e0e78746-cd92-44c7-aa3c-b74bdbe6bff0",
   "metadata": {},
   "source": [
    "Il est possible de représenter graphiquement un tableau (array) en fonction d'un autre de même taille grâce à matplotlib. Pour cela, on utilise la fonction `plt.plot(A,B)` de matplotlib"
   ]
  },
  {
   "cell_type": "code",
   "execution_count": null,
   "id": "ff38a290-9d3b-451d-a34b-f57d71da6a1b",
   "metadata": {},
   "outputs": [],
   "source": [
    "%matplotlib inline     \n",
    "# cette ligne est nécessaire si on veut afficher les graphes entre les cellules\n",
    "import numpy as np\n",
    "import matplotlib as mp\n",
    "import matplotlib.pyplot as plt"
   ]
  },
  {
   "cell_type": "code",
   "execution_count": null,
   "id": "b8107aec-32ee-42df-80ec-ce46cc2983c9",
   "metadata": {},
   "outputs": [],
   "source": [
    "X=np.linspace(0,2*np.pi,400)       # On crée un tableau X, de taille 400, qui va de 0 à 2 pi\n",
    "                                   # Attention, pi n'est pas connu d'avance par matplotlib\n",
    "Y=np.tanh(X)                       # On crée un tableau Y avec les tangentes hyperboliques des valeurs de X\n",
    "plt.plot(X,Y)                      # On trace la courbe Y(X), avec des traits reliant les couples de points formés\n",
    "                                   # par les éléments de X et Y"
   ]
  },
  {
   "cell_type": "markdown",
   "id": "81304f2d-b561-4eec-ba37-95b8b1f97340",
   "metadata": {},
   "source": [
    "**ATTENTION ! Un graphe qui n'a pas de titre aux axes, pas de légende, pas d'explication, n'est pas un bon graphe !**\n",
    "\n",
    "S'il est admissible de faire un graphe sans rien lorsqu'on recherche la bonne visualisation, il faut à la fin **PENSER à mettre un titre, à nommer les axes et à mettre une légende !!!**\n",
    "\n",
    "L'ensemble des modifications possibles pour un graphe est assez étendu, voici un exemple sommaire mais déjà suffisant."
   ]
  },
  {
   "cell_type": "code",
   "execution_count": null,
   "id": "670daf84-df51-472a-904c-237590537161",
   "metadata": {},
   "outputs": [],
   "source": [
    "x=np.arange(0,2*np.pi,.03) # définition des tableaux à tracer\n",
    "y=np.tanh(x)\n",
    "yy=np.cos(x)"
   ]
  },
  {
   "cell_type": "code",
   "execution_count": null,
   "id": "e3351c7e-330d-4b9e-90cb-69a8c60ac374",
   "metadata": {},
   "outputs": [],
   "source": [
    "plt.figure(0, figsize=(7,5))     # Crée la figure 0, de taille 7(horiz.) x 5(vert.)\n",
    "plt.plot(x,y)                     # Trace y vs x\n",
    "plt.plot(x,yy, '--', color='red') # Trace yy en fonction de x, en ligne --, de couleur rouge\n",
    "plt.ylim(-1.1,1.1)                # Change l'échelle en y\n",
    "plt.xlim(0,7)                     # change l'échelle en x\n",
    "\n",
    "plt.xlabel('temps (s)', fontsize=14)                  # titre de l'axe x, en taille de font 14\n",
    "plt.ylabel(\"amplitude d'oscillation\", fontsize=14)    #  Idem axe y\n",
    "plt.title('Exemple de graphe commente', fontsize=18)  # Titre du graphe\n",
    "plt.legend(['tan. hyperb.','cosinus'],loc='lower right', fontsize = 12)\n",
    "#           ici une liste dea courbes \n",
    "#           DANS l\"ORDRE D'APPARITION\n",
    "#           loc : pour situer la légende dans le graphe  "
   ]
  },
  {
   "cell_type": "markdown",
   "id": "5e8f62ef-249e-45c8-9cbf-cd90840b96c6",
   "metadata": {},
   "source": [
    "### Galleries de graphes de matplotlib (très utiles)\n",
    "\n",
    "Les exemples :\n",
    "\n",
    "https://matplotlib.org/stable/gallery/index.html  \n",
    "Une gallerie d'images - quand on clique dessus, on a accès au code !!!!\n"
   ]
  },
  {
   "cell_type": "code",
   "execution_count": null,
   "id": "176ddcf6-a93d-499c-b61c-9f23d703ff1b",
   "metadata": {},
   "outputs": [],
   "source": [
    "from IPython.display import IFrame\n",
    "\n",
    "IFrame(src='https://matplotlib.org/stable/gallery/index.html', width=800, height=500)"
   ]
  },
  {
   "cell_type": "code",
   "execution_count": null,
   "id": "342b115b-6394-47dd-9d15-40943ec7fb4b",
   "metadata": {},
   "outputs": [],
   "source": []
  }
 ],
 "metadata": {
  "kernelspec": {
   "display_name": "Python 3 (ipykernel)",
   "language": "python",
   "name": "python3"
  },
  "language_info": {
   "codemirror_mode": {
    "name": "ipython",
    "version": 3
   },
   "file_extension": ".py",
   "mimetype": "text/x-python",
   "name": "python",
   "nbconvert_exporter": "python",
   "pygments_lexer": "ipython3",
   "version": "3.10.12"
  }
 },
 "nbformat": 4,
 "nbformat_minor": 5
}
